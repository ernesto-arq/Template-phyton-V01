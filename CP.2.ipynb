{
 "cells": [
  {
   "cell_type": "code",
   "execution_count": 2,
   "metadata": {},
   "outputs": [],
   "source": [
    "############################# FUNÇÕES DA CALCULADORA ###############################"
   ]
  },
  {
   "cell_type": "code",
   "execution_count": 3,
   "metadata": {},
   "outputs": [],
   "source": [
    "import os\n",
    "import time\n",
    "#Calculoradora basica funções()"
   ]
  },
  {
   "cell_type": "code",
   "execution_count": 4,
   "metadata": {},
   "outputs": [],
   "source": [
    "#Limpar tela\n",
    "def funcLimparTela():\n",
    "        limparTela = lambda: os.system('cls') #on Windows System\n",
    "        limparTela()"
   ]
  },
  {
   "cell_type": "code",
   "execution_count": 5,
   "metadata": {},
   "outputs": [],
   "source": [
    "#Entrada de operações (Print de instruções)       \n",
    "def funcEntradaOperacoes():\n",
    "    print(\"##################################################### Calculadora #############################################################\")\n",
    "    print(\"Lista de Operações: \\n 1 - Soma \\n 2 - Subtração \\n 3 - Multiplicação \\n 4 - Divisão\")\n",
    "    print('\\nDigite \"Novo\" para novo calculo \\nDigite \"Fim\" para encerar a calculadora')\n",
    "    print(\"###############################################################################################################################\")   "
   ]
  },
  {
   "cell_type": "code",
   "execution_count": 6,
   "metadata": {},
   "outputs": [],
   "source": [
    "#soma\n",
    "def funcSoma(var1, var2):\n",
    "    somar = var1 + var2 \n",
    "    return somar"
   ]
  },
  {
   "cell_type": "code",
   "execution_count": 7,
   "metadata": {},
   "outputs": [],
   "source": [
    "#subtração\n",
    "def funcSub(var1, var2):\n",
    "    sub = var1 - var2\n",
    "    return sub"
   ]
  },
  {
   "cell_type": "code",
   "execution_count": 8,
   "metadata": {},
   "outputs": [],
   "source": [
    "#multiplicação\n",
    "def funcMult(var1, var2):\n",
    "    mult = var1*var2 \n",
    "    return mult"
   ]
  },
  {
   "cell_type": "code",
   "execution_count": 9,
   "metadata": {},
   "outputs": [],
   "source": [
    "#Divisão\n",
    "def funcDiv(var1, var2):\n",
    "    div = var1/var2\n",
    "    return div"
   ]
  },
  {
   "cell_type": "code",
   "execution_count": 10,
   "metadata": {},
   "outputs": [],
   "source": [
    "#Primeira Entrada dos dados\n",
    "def funcPrimeiraOperacao():\n",
    "    registradorOperacao = input(\"\\nDigite uma das quatro operações:  \")\n",
    "    return registradorOperacao"
   ]
  },
  {
   "cell_type": "code",
   "execution_count": 11,
   "metadata": {},
   "outputs": [],
   "source": [
    "# Funcao de conversao int e float\n",
    "def funcConvertor(registradorOperacao):  \n",
    "    if type(registradorOperacao) == int:\n",
    "        registradorOperacao = int(registradorOperacao)\n",
    "        #Conversao para inteiro\n",
    "        return (registradorOperacao)\n",
    "    else:\n",
    "        registradorOperacao = float(registradorOperacao)\n",
    "        return (registradorOperacao)"
   ]
  },
  {
   "cell_type": "code",
   "execution_count": 12,
   "metadata": {},
   "outputs": [],
   "source": [
    "#Verificação de caso do registro (entrada de dados)\n",
    "def funcVerif(registradorOperacao):\n",
    "    verificador = 0\n",
    "    if ((registradorOperacao <= 4) and (registradorOperacao >= 1)):\n",
    "        verificador = True\n",
    "        #Se verdadeiro não fazer nada\n",
    "        return verificador\n",
    "    else:\n",
    "        verificador = False\n",
    "        #Se falso entrar na condição para reescrever\n",
    "        return verificador"
   ]
  },
  {
   "cell_type": "code",
   "execution_count": 13,
   "metadata": {},
   "outputs": [],
   "source": [
    "# Chamado caso entrada seja invalida\n",
    "def funcCorretordeCaso(verificador,registradorOperacao):\n",
    "    while (verificador == False):\n",
    "        if ((registradorOperacao <= 4) and (registradorOperacao >= 1)):\n",
    "            verificador = True\n",
    "            return registradorOperacao, verificador;\n",
    "            break\n",
    "        else:\n",
    "            print(\"Opção Invalida: \")\n",
    "            registradorOperacao = (input(\"\\nDigite uma das quatro operações:  \"))\n",
    "            registradorOperacao = funcConvertor(registradorOperacao)\n",
    "            verificador = False\n",
    "            return registradorOperacao, verificador;"
   ]
  },
  {
   "cell_type": "code",
   "execution_count": 14,
   "metadata": {},
   "outputs": [],
   "source": [
    "def funcCalcular(registradorOperacao):\n",
    "    #chamada a soma\n",
    "    if (registradorOperacao == 1):\n",
    "        valor = 0\n",
    "        print(\"Você escolheu Soma\")\n",
    "        soma1Input = (input(\"\\nDigite o Primeiro valor:  \"))\n",
    "        soma1Convertido = funcConvertor(soma1Input)\n",
    "        soma2Input = (input(\"\\nDigite o Segundo valor:   \"))\n",
    "        soma2Convertido = funcConvertor(soma2Input)\n",
    "        valor = funcSoma(soma1Convertido,soma2Convertido)\n",
    "        return valor\n",
    "    #chamada subtração\n",
    "    elif (registradorOperacao == 2):\n",
    "        valor = 0\n",
    "        print(\"Você escolheu Subtração\")\n",
    "        sub1Input = (input(\"\\nDigite o Primeiro valor:  \"))\n",
    "        sub1Convertido = funcConvertor(sub1Input)\n",
    "        sub2Input = (input(\"\\nDigite o Segundo valor:   \"))\n",
    "        sub2Convertido = funcConvertor(sub2Input)\n",
    "        valor = funcSub(sub1Convertido,sub2Convertido)\n",
    "        return valor\n",
    "    #multiplicação    \n",
    "    elif (registradorOperacao == 3):\n",
    "        print(\"Você escolheu Multiplicação\")\n",
    "        valor = 0\n",
    "        mult1Input = (input(\"\\nDigite o Primeiro valor:  \"))\n",
    "        mult1Convertido = funcConvertor(mult1Input)\n",
    "        mult2Input = (input(\"\\nDigite o Segundo valor:   \"))\n",
    "        mult2Convertido = funcConvertor(mult2Input)\n",
    "        valor = funcMult(mult1Convertido,mult2Convertido)\n",
    "        return valor\n",
    "    #Divisão    \n",
    "    elif (registradorOperacao == 4):\n",
    "        print(\"Você escolheu Divisão\")\n",
    "        valor = 0\n",
    "        div1Input = (input(\"\\nDigite o Primeiro valor:  \"))\n",
    "        div1Convertido = funcConvertor(div1Input)\n",
    "        div2Input = (input(\"\\nDigite o Segundo valor:   \"))\n",
    "        div2Convertido = funcConvertor(div2Input)\n",
    "        valor = funcDiv(div1Convertido,div2Convertido)\n",
    "        return valor"
   ]
  },
  {
   "cell_type": "code",
   "execution_count": 15,
   "metadata": {},
   "outputs": [],
   "source": [
    "############################# Validação de entrada da calculadora ###############################"
   ]
  },
  {
   "cell_type": "code",
   "execution_count": 16,
   "metadata": {},
   "outputs": [
    {
     "name": "stdout",
     "output_type": "stream",
     "text": [
      "##################################################### Calculadora #############################################################\n",
      "Lista de Operações: \n",
      " 1 - Soma \n",
      " 2 - Subtração \n",
      " 3 - Multiplicação \n",
      " 4 - Divisão\n",
      "\n",
      "Digite \"Novo\" para novo calculo \n",
      "Digite \"Fim\" para encerar a calculadora\n",
      "###############################################################################################################################\n",
      "\n",
      "Digite uma das quatro operações:  10\n",
      "Opção Invalida: \n",
      "\n",
      "Digite uma das quatro operações:  15\n",
      "\n",
      "Digite \"Novo\" para novo calculo \n",
      "Digite \"Fim\" para encerar a calculadora16\n",
      "##################################################### Calculadora #############################################################\n",
      "Lista de Operações: \n",
      " 1 - Soma \n",
      " 2 - Subtração \n",
      " 3 - Multiplicação \n",
      " 4 - Divisão\n",
      "\n",
      "Digite \"Novo\" para novo calculo \n",
      "Digite \"Fim\" para encerar a calculadora\n",
      "###############################################################################################################################\n",
      "\n",
      "Digite uma das quatro operações:  Novo\n"
     ]
    },
    {
     "ename": "ValueError",
     "evalue": "could not convert string to float: 'Novo'",
     "output_type": "error",
     "traceback": [
      "\u001b[1;31m---------------------------------------------------------------------------\u001b[0m",
      "\u001b[1;31mValueError\u001b[0m                                Traceback (most recent call last)",
      "\u001b[1;32m<ipython-input-16-9e9249b7aaf8>\u001b[0m in \u001b[0;36m<module>\u001b[1;34m()\u001b[0m\n\u001b[0;32m      4\u001b[0m     \u001b[0mfuncEntradaOperacoes\u001b[0m\u001b[1;33m(\u001b[0m\u001b[1;33m)\u001b[0m\u001b[1;33m\u001b[0m\u001b[0m\n\u001b[0;32m      5\u001b[0m     \u001b[0mprimeiraOperacao\u001b[0m \u001b[1;33m=\u001b[0m \u001b[0mfuncPrimeiraOperacao\u001b[0m\u001b[1;33m(\u001b[0m\u001b[1;33m)\u001b[0m\u001b[1;33m\u001b[0m\u001b[0m\n\u001b[1;32m----> 6\u001b[1;33m     \u001b[0mprimeiraOperacao\u001b[0m \u001b[1;33m=\u001b[0m \u001b[0mfuncConvertor\u001b[0m\u001b[1;33m(\u001b[0m\u001b[0mprimeiraOperacao\u001b[0m\u001b[1;33m)\u001b[0m\u001b[1;33m\u001b[0m\u001b[0m\n\u001b[0m\u001b[0;32m      7\u001b[0m     \u001b[0mverificador\u001b[0m \u001b[1;33m=\u001b[0m \u001b[0mfuncVerif\u001b[0m\u001b[1;33m(\u001b[0m\u001b[0mprimeiraOperacao\u001b[0m\u001b[1;33m)\u001b[0m\u001b[1;33m\u001b[0m\u001b[0m\n\u001b[0;32m      8\u001b[0m     \u001b[1;32mwhile\u001b[0m\u001b[1;33m(\u001b[0m\u001b[0mverificador\u001b[0m \u001b[1;33m==\u001b[0m \u001b[1;32mFalse\u001b[0m\u001b[1;33m)\u001b[0m\u001b[1;33m:\u001b[0m\u001b[1;33m\u001b[0m\u001b[0m\n",
      "\u001b[1;32m<ipython-input-11-96a53f80d4b3>\u001b[0m in \u001b[0;36mfuncConvertor\u001b[1;34m(registradorOperacao)\u001b[0m\n\u001b[0;32m      6\u001b[0m         \u001b[1;32mreturn\u001b[0m \u001b[1;33m(\u001b[0m\u001b[0mregistradorOperacao\u001b[0m\u001b[1;33m)\u001b[0m\u001b[1;33m\u001b[0m\u001b[0m\n\u001b[0;32m      7\u001b[0m     \u001b[1;32melse\u001b[0m\u001b[1;33m:\u001b[0m\u001b[1;33m\u001b[0m\u001b[0m\n\u001b[1;32m----> 8\u001b[1;33m         \u001b[0mregistradorOperacao\u001b[0m \u001b[1;33m=\u001b[0m \u001b[0mfloat\u001b[0m\u001b[1;33m(\u001b[0m\u001b[0mregistradorOperacao\u001b[0m\u001b[1;33m)\u001b[0m\u001b[1;33m\u001b[0m\u001b[0m\n\u001b[0m\u001b[0;32m      9\u001b[0m         \u001b[1;32mreturn\u001b[0m \u001b[1;33m(\u001b[0m\u001b[0mregistradorOperacao\u001b[0m\u001b[1;33m)\u001b[0m\u001b[1;33m\u001b[0m\u001b[0m\n",
      "\u001b[1;31mValueError\u001b[0m: could not convert string to float: 'Novo'"
     ]
    }
   ],
   "source": [
    "Encerramento = \"N\"\n",
    "\n",
    "while (Encerramento != \"Fim\"):\n",
    "    funcEntradaOperacoes()\n",
    "    primeiraOperacao = funcPrimeiraOperacao()\n",
    "    primeiraOperacao = funcConvertor(primeiraOperacao)\n",
    "    verificador = funcVerif(primeiraOperacao)\n",
    "    while(verificador == False):\n",
    "        primeiraOperacao,verificador = funcCorretordeCaso(verificador, primeiraOperacao)\n",
    "        if(verificador == True):\n",
    "            valor = funcCalcular(primeiraOperacao)\n",
    "            print(\"Resultado da operação: %s\" %(valor))\n",
    "            break\n",
    "        break    \n",
    "    else:\n",
    "        valor = funcCalcular(primeiraOperacao)\n",
    "        print(\"Resultado da operação: %s\" %(valor))\n",
    "    Encerramento = input ('\\nDigite \"Novo\" para novo calculo \\nDigite \"Fim\" para encerar a calculadora')\n",
    "    if(Encerramento == \"Novo\"):\n",
    "        funcLimparTela()\n",
    "    elif(Encerramento == \"Fim\"):\n",
    "        print(\"Exit()\")\n",
    "        break\n",
    "    time.sleep(0)"
   ]
  },
  {
   "cell_type": "code",
   "execution_count": null,
   "metadata": {},
   "outputs": [],
   "source": []
  },
  {
   "cell_type": "code",
   "execution_count": null,
   "metadata": {},
   "outputs": [],
   "source": []
  },
  {
   "cell_type": "code",
   "execution_count": null,
   "metadata": {},
   "outputs": [],
   "source": []
  },
  {
   "cell_type": "code",
   "execution_count": null,
   "metadata": {},
   "outputs": [],
   "source": []
  }
 ],
 "metadata": {
  "kernelspec": {
   "display_name": "Python 3",
   "language": "python",
   "name": "python3"
  }
 },
 "nbformat": 4,
 "nbformat_minor": 2
}
