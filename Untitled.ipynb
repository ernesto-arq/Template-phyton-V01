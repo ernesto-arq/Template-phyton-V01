{
 "cells": [
  {
   "cell_type": "code",
   "execution_count": 1,
   "metadata": {},
   "outputs": [],
   "source": [
    "# Teste basico"
   ]
  },
  {
   "cell_type": "code",
   "execution_count": 6,
   "metadata": {},
   "outputs": [
    {
     "name": "stdout",
     "output_type": "stream",
     "text": [
      "Digite nome da disciplina: Geografia\n",
      "valor da primeira nota (Entre 0 e 10): 7\n",
      "valor da primeira nota (Entre 0 e 10): 8\n",
      "Você foi aprovado em Geografia ! Com media de : 7.5\n"
     ]
    }
   ],
   "source": [
    "disciplina = input(\"Digite nome da disciplina: \")\n",
    "disciplina = str(disciplina)\n",
    "primeiraVerificacao = input(\"valor da primeira nota (Entre 0 e 10): \")\n",
    "primeiraVerificacao = int(primeiraVerificacao)\n",
    "segundaVerificacao = input(\"valor da primeira nota (Entre 0 e 10): \")\n",
    "segundaVerificacao = int(segundaVerificacao)\n",
    "\n",
    "notaFinal = (primeiraVerificacao + segundaVerificacao)/2\n",
    "\n",
    "if (notaFinal >= 7):\n",
    "    print(\"Você foi aprovado em\", disciplina, \"! Com media de :\", notaFinal)\n",
    "else:    \n",
    "    print(\"Você foi reprovado em\", disciplina, \"! Com media de :\", notaFinal)"
   ]
  },
  {
   "cell_type": "code",
   "execution_count": null,
   "metadata": {},
   "outputs": [],
   "source": [
    "disciplina = input(\"Digite nome da disciplina: \")\n",
    "disciplina = str(disciplina)\n",
    "primeiraVerificacao = input(\"valor da primeira nota (Entre 0 e 10): \")\n",
    "primeiraVerificacao = int(primeiraVerificacao)\n",
    "segundaVerificacao = input(\"valor da primeira nota (Entre 0 e 10): \")\n",
    "segundaVerificacao = int(segundaVerificacao)\n",
    "\n",
    "notaFinal = (primeiraVerificacao + segundaVerificacao)/2\n",
    "\n",
    "if (notaFinal >= 7):\n",
    "    print(\"Você foi aprovado em %s com media final de %r\" %(disciplina, notaFinal))\n",
    "else:    \n",
    "    print(\"Você foi reprovado em %s com media final de %r\" %(disciplina, notaFinal))"
   ]
  },
  {
   "cell_type": "code",
   "execution_count": null,
   "metadata": {},
   "outputs": [],
   "source": [
    "# primeiro campo ID\n",
    "# segundo nome\n",
    "# terceiro senha\n",
    "dic_Empregados = {1010:[\"João\",123],2020:[\"Marta\",1234]}\n",
    "\n",
    "# Declaração de variaveis\n",
    "idUsuario = None\n",
    "senhaUsuario = None\n",
    "testeCondicional = False\n",
    "\n",
    "idUsuario = 1010\n",
    "\n",
    "while testeCondicional == False:\n",
    "    for key in dic_Empregados:\n",
    "        if key == idUsuario:\n",
    "            testeCondicional = True\n",
    "            print(\"OK\")\n",
    "            break\n",
    "    else\n",
    "        print(\"Usuario Invalido\")\n",
    "        break\n",
    "        \n"
   ]
  },
  {
   "cell_type": "code",
   "execution_count": null,
   "metadata": {},
   "outputs": [],
   "source": [
    "dic_Empregados"
   ]
  },
  {
   "cell_type": "code",
   "execution_count": null,
   "metadata": {},
   "outputs": [],
   "source": []
  }
 ],
 "metadata": {
  "kernelspec": {
   "display_name": "Python 3",
   "language": "python",
   "name": "python3"
  },
  "language_info": {
   "codemirror_mode": {
    "name": "ipython",
    "version": 3
   },
   "file_extension": ".py",
   "mimetype": "text/x-python",
   "name": "python",
   "nbconvert_exporter": "python",
   "pygments_lexer": "ipython3",
   "version": "3.6.5"
  }
 },
 "nbformat": 4,
 "nbformat_minor": 2
}
