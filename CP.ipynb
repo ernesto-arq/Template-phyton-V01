{
 "cells": [
  {
   "cell_type": "code",
   "execution_count": 49,
   "metadata": {},
   "outputs": [
    {
     "ename": "IndentationError",
     "evalue": "expected an indented block (<ipython-input-49-5e13af24584a>, line 17)",
     "output_type": "error",
     "traceback": [
      "\u001b[1;36m  File \u001b[1;32m\"<ipython-input-49-5e13af24584a>\"\u001b[1;36m, line \u001b[1;32m17\u001b[0m\n\u001b[1;33m    Numero1 = Button(master, text=\"1\", command=clickNum())\u001b[0m\n\u001b[1;37m          ^\u001b[0m\n\u001b[1;31mIndentationError\u001b[0m\u001b[1;31m:\u001b[0m expected an indented block\n"
     ]
    }
   ],
   "source": [
    "#Importação\n",
    "from tkinter import * \n",
    "#Inicio da Estrutura\n",
    "master = Tk()\n",
    "#Tamanho da tela\n",
    "master.geometry('350x500')\n",
    "#Variavel Global\n",
    "pilhaCalculo = []\n",
    "global impilhador\n",
    "impilhador = 0\n",
    "global valor\n",
    "valor = 0\n",
    "\n",
    "def clickNum():\n",
    "    \n",
    "    \n",
    "#Numero1\n",
    "Numero1 = Button(master, text=\"1\", command=clickNum())\n",
    "Numero1.pack()\n",
    "\n",
    "#Nome da tela\n",
    "master.title(\"Calculadora\") \n",
    "#Fim da Estrutura\n",
    "master.mainloop()"
   ]
  },
  {
   "cell_type": "code",
   "execution_count": 26,
   "metadata": {},
   "outputs": [],
   "source": [
    "pilhaCalculo = []"
   ]
  },
  {
   "cell_type": "code",
   "execution_count": 19,
   "metadata": {},
   "outputs": [],
   "source": [
    "pilhaCalculo.insert(0,1)"
   ]
  },
  {
   "cell_type": "code",
   "execution_count": 20,
   "metadata": {},
   "outputs": [
    {
     "data": {
      "text/plain": [
       "[1]"
      ]
     },
     "execution_count": 20,
     "metadata": {},
     "output_type": "execute_result"
    }
   ],
   "source": [
    "pilhaCalculo"
   ]
  },
  {
   "cell_type": "code",
   "execution_count": null,
   "metadata": {},
   "outputs": [],
   "source": []
  }
 ],
 "metadata": {
  "kernelspec": {
   "display_name": "Python 3",
   "language": "python",
   "name": "python3"
  },
  "language_info": {
   "codemirror_mode": {
    "name": "ipython",
    "version": 3
   },
   "file_extension": ".py",
   "mimetype": "text/x-python",
   "name": "python",
   "nbconvert_exporter": "python",
   "pygments_lexer": "ipython3",
   "version": "3.6.5"
  }
 },
 "nbformat": 4,
 "nbformat_minor": 2
}
