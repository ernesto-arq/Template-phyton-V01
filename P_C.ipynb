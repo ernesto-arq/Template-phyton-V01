{
 "cells": [
  {
   "cell_type": "code",
   "execution_count": 46,
   "metadata": {},
   "outputs": [],
   "source": [
    "\n",
    "#Criando a classe e colocando o nome da classe\n",
    "class Livro():\n",
    "    #__init__ e chamado de metodo construtor\n",
    "    #(self) e paravra reservada para referenciar cada metodo da classe\n",
    "    #criando o metodo de chamada inicial para as instancias da classe\n",
    "    def __init__(self):    \n",
    "        self.titulo = \"Senhor dos Aneis: A sociedade do Anel\"\n",
    "        self.autor = \"J.k Token\"\n",
    "        self.dataLancamento = \"25/10/1990\"\n",
    "        print(\"Construtor chamado com sucesso!\")\n",
    "    \n",
    "    def imprimeDados(self):\n",
    "        print(\"Titulo: %s\" %(self.titulo))\n",
    "        print(\"Autor: %s\" %(self.autor))\n",
    "        print(\"Data de Lancamento %s\" %(self.dataLancamento))"
   ]
  },
  {
   "cell_type": "code",
   "execution_count": 47,
   "metadata": {},
   "outputs": [
    {
     "name": "stdout",
     "output_type": "stream",
     "text": [
      "Construtor chamado com sucesso!\n"
     ]
    }
   ],
   "source": [
    "infor = Livro()"
   ]
  },
  {
   "cell_type": "code",
   "execution_count": 49,
   "metadata": {
    "scrolled": true
   },
   "outputs": [
    {
     "name": "stdout",
     "output_type": "stream",
     "text": [
      "Titulo: Senhor dos Aneis: A sociedade do Anel\n",
      "Autor: J.k Token\n",
      "Data de Lancamento 25/10/1990\n"
     ]
    }
   ],
   "source": [
    "infor.imprimeDados()"
   ]
  },
  {
   "cell_type": "code",
   "execution_count": 85,
   "metadata": {},
   "outputs": [],
   "source": [
    "###### modificando para ser independente\n",
    "\n",
    "#Criando a classe e colocando o nome da classe\n",
    "class Livro():\n",
    "    #__init__ e chamado de metodo construtor\n",
    "    #(self) e paravra reservada para referenciar cada metodo da classe\n",
    "    #criando o metodo de chamada inicial para as instancias da classe\n",
    "    #Self é metodo interno entao ele faz referencia aos dados dentor da classe\n",
    "    # os outros parametros apos o serlf sao atribuicoes\n",
    "    # ou seja valores que serao capturados e inseridos nos campos\n",
    "    def __init__(self, titulo, autor, dataLancamento):    \n",
    "        self.titulo = titulo\n",
    "        self.autor = autor\n",
    "        self.dataLancamento = dataLancamento\n",
    "        print(\"Dados Construidos com sucesso!\")\n",
    "    \n",
    "    def imprimeDados(self):\n",
    "        print(\"Titulo: %s\" %(self.titulo))\n",
    "        print(\"Autor: %s\" %(self.autor))\n",
    "        print(\"Data de Lancamento %s\" %(self.dataLancamento))"
   ]
  },
  {
   "cell_type": "code",
   "execution_count": 86,
   "metadata": {},
   "outputs": [
    {
     "name": "stdout",
     "output_type": "stream",
     "text": [
      "Dados Construidos com sucesso!\n"
     ]
    }
   ],
   "source": [
    "#Instanciado classe como objeto e atribuindo valores\n",
    "# 1 - campo livro\n",
    "# 2 - campo autor\n",
    "# 3 - campo data\n",
    "dados = Livro(\"A Ordem\", \"Ernesto\", \"25/10/1990\")"
   ]
  },
  {
   "cell_type": "code",
   "execution_count": 87,
   "metadata": {},
   "outputs": [
    {
     "name": "stdout",
     "output_type": "stream",
     "text": [
      "Titulo: A Ordem\n",
      "Autor: Ernesto\n",
      "Data de Lancamento 25/10/1990\n"
     ]
    }
   ],
   "source": [
    "dados.imprimeDados()"
   ]
  },
  {
   "cell_type": "code",
   "execution_count": 88,
   "metadata": {},
   "outputs": [
    {
     "data": {
      "text/plain": [
       "'Ernesto'"
      ]
     },
     "execution_count": 88,
     "metadata": {},
     "output_type": "execute_result"
    }
   ],
   "source": [
    "dados.autor"
   ]
  },
  {
   "cell_type": "code",
   "execution_count": 89,
   "metadata": {},
   "outputs": [],
   "source": [
    "dados.autor = \"Joao\""
   ]
  },
  {
   "cell_type": "code",
   "execution_count": 90,
   "metadata": {},
   "outputs": [
    {
     "data": {
      "text/plain": [
       "'Joao'"
      ]
     },
     "execution_count": 90,
     "metadata": {},
     "output_type": "execute_result"
    }
   ],
   "source": [
    "dados.autor"
   ]
  },
  {
   "cell_type": "code",
   "execution_count": 91,
   "metadata": {},
   "outputs": [
    {
     "name": "stdout",
     "output_type": "stream",
     "text": [
      "Titulo: A Ordem\n",
      "Autor: Joao\n",
      "Data de Lancamento 25/10/1990\n"
     ]
    }
   ],
   "source": [
    "dados.imprimeDados()"
   ]
  },
  {
   "cell_type": "code",
   "execution_count": 92,
   "metadata": {},
   "outputs": [],
   "source": [
    "################################################################################################################################"
   ]
  },
  {
   "cell_type": "code",
   "execution_count": 93,
   "metadata": {},
   "outputs": [],
   "source": [
    "#Classe cachorro\n",
    "\n",
    "class Cachorro():\n",
    "    #inicialização da classe e referencia interna\n",
    "    #atribuição dos valores capturados na instanciação\n",
    "    def __init__(self, nome, raca, idade):\n",
    "        self.nome = nome\n",
    "        self.raca = raca\n",
    "        self.idade = idade\n",
    "    \n",
    "    #metodo de imprimir todos os dados da classe    \n",
    "    def imprimirDados(self):    \n",
    "        print(\"Nome do cachorro: %s\" %(self.nome))\n",
    "        print(\"Raca do cachorro: %s\" %(self.raca))\n",
    "        print(\"Idade do cachorro: %s\" %(self.idade))"
   ]
  },
  {
   "cell_type": "code",
   "execution_count": 71,
   "metadata": {},
   "outputs": [],
   "source": [
    "#dados em ordem (nome, raca, idade)\n",
    "Pipi = Cachorro(\"Pipi\", \"Poodle\", \"25/10/1990\")"
   ]
  },
  {
   "cell_type": "code",
   "execution_count": 72,
   "metadata": {},
   "outputs": [
    {
     "name": "stdout",
     "output_type": "stream",
     "text": [
      "Nome do cachorro: Pipi\n",
      "Raca do cachorro: Poodle\n",
      "Idade do cachorro: 25/10/1990\n"
     ]
    }
   ],
   "source": [
    "Pipi.imprimirDados()"
   ]
  },
  {
   "cell_type": "code",
   "execution_count": 73,
   "metadata": {},
   "outputs": [],
   "source": [
    "Pipi.nome = \"Pimpim\""
   ]
  },
  {
   "cell_type": "code",
   "execution_count": 75,
   "metadata": {},
   "outputs": [
    {
     "name": "stdout",
     "output_type": "stream",
     "text": [
      "Nome do cachorro: Pimpim\n",
      "Raca do cachorro: Poodle\n",
      "Idade do cachorro: 25/10/1990\n"
     ]
    }
   ],
   "source": [
    "Pipi.imprimirDados()"
   ]
  },
  {
   "cell_type": "code",
   "execution_count": 76,
   "metadata": {},
   "outputs": [],
   "source": [
    "Golias = Cachorro(\"Golias\", \"Poodle\", \"01/01/1900\")"
   ]
  },
  {
   "cell_type": "code",
   "execution_count": 77,
   "metadata": {},
   "outputs": [
    {
     "name": "stdout",
     "output_type": "stream",
     "text": [
      "Nome do cachorro: Golias\n",
      "Raca do cachorro: Poodle\n",
      "Idade do cachorro: 01/01/1900\n"
     ]
    }
   ],
   "source": [
    "Golias.imprimirDados()"
   ]
  },
  {
   "cell_type": "code",
   "execution_count": 103,
   "metadata": {},
   "outputs": [],
   "source": [
    "soma = lambda a: a + 10"
   ]
  },
  {
   "cell_type": "code",
   "execution_count": 105,
   "metadata": {},
   "outputs": [
    {
     "name": "stdout",
     "output_type": "stream",
     "text": [
      "14\n"
     ]
    }
   ],
   "source": [
    "print(soma(4))"
   ]
  },
  {
   "cell_type": "code",
   "execution_count": 110,
   "metadata": {},
   "outputs": [
    {
     "name": "stdout",
     "output_type": "stream",
     "text": [
      "20\n"
     ]
    }
   ],
   "source": [
    "soma = lambda a, b: a + b\n",
    "print(soma(10,10))"
   ]
  },
  {
   "cell_type": "code",
   "execution_count": 111,
   "metadata": {},
   "outputs": [
    {
     "name": "stdout",
     "output_type": "stream",
     "text": [
      "200\n"
     ]
    }
   ],
   "source": [
    "c = 10\n",
    "soma = lambda a,b : (a + b)*c\n",
    "print(soma(10,10))"
   ]
  },
  {
   "cell_type": "code",
   "execution_count": 113,
   "metadata": {},
   "outputs": [
    {
     "name": "stdout",
     "output_type": "stream",
     "text": [
      "400\n"
     ]
    }
   ],
   "source": [
    "soma = lambda a,b,c: (a + b)*c\n",
    "print(soma(10,10,20))"
   ]
  },
  {
   "cell_type": "code",
   "execution_count": null,
   "metadata": {},
   "outputs": [],
   "source": []
  }
 ],
 "metadata": {
  "kernelspec": {
   "display_name": "Python 3",
   "language": "python",
   "name": "python3"
  },
  "language_info": {
   "codemirror_mode": {
    "name": "ipython",
    "version": 3
   },
   "file_extension": ".py",
   "mimetype": "text/x-python",
   "name": "python",
   "nbconvert_exporter": "python",
   "pygments_lexer": "ipython3",
   "version": "3.6.5"
  }
 },
 "nbformat": 4,
 "nbformat_minor": 2
}
