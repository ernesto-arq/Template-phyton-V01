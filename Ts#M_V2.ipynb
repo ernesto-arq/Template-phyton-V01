{
 "cells": [
  {
   "cell_type": "code",
   "execution_count": 1,
   "metadata": {},
   "outputs": [],
   "source": [
    "# primeiro campo ID\n",
    "# segundo nome\n",
    "# terceiro senha\n",
    "dic_Empregados = {1010:[\"João\",123],2020:[\"Marta\",1234]}\n",
    "tamanho_dic = int(len(dic_Empregados))\n",
    "\n",
    "# Declaração de variaveis\n",
    "testeCondicional = 0"
   ]
  },
  {
   "cell_type": "markdown",
   "metadata": {},
   "source": [
    "# Intervalo"
   ]
  },
  {
   "cell_type": "code",
   "execution_count": 17,
   "metadata": {},
   "outputs": [
    {
     "name": "stdout",
     "output_type": "stream",
     "text": [
      "Digite o ID do usuario: 2525\n",
      "Digite senha do usuario: 2525\n"
     ]
    }
   ],
   "source": [
    "idUsuario = input(\"Digite o ID do usuario: \")\n",
    "senhaUsuario = input(\"Digite senha do usuario: \")\n",
    "idUsuario = int(idUsuario)\n",
    "senhaUsuario = int(senhaUsuario)"
   ]
  },
  {
   "cell_type": "code",
   "execution_count": 19,
   "metadata": {},
   "outputs": [
    {
     "name": "stdout",
     "output_type": "stream",
     "text": [
      "Senha invalida!\n",
      "Usuario não encontrado!\n"
     ]
    }
   ],
   "source": [
    "Status = \"Off\"\n",
    "while testeCondicional != tamanho_dic:\n",
    "    for key in dic_Empregados:\n",
    "        testeCondicional += 1\n",
    "        if key == idUsuario:\n",
    "            armazenamentoUsuario = list(dic_Empregados.get(key))\n",
    "            if armazenamentoUsuario[1] == senhaUsuario:\n",
    "                print(\"Bem-vindo: %s\"%(armazenamentoUsuario[0]))\n",
    "                print(\"Loggin bem sucedido!\")\n",
    "                Status = \"OK\"\n",
    "                break               \n",
    "    if Status == \"OK\":\n",
    "        break\n",
    "    if Status == \"Off\":\n",
    "        print(\"Senha invalida!\")\n",
    "        break\n",
    "if testeCondicional == tamanho_dic:\n",
    "    print(\"Usuario não encontrado!\")\n",
    "testeCondicional = 0"
   ]
  },
  {
   "cell_type": "code",
   "execution_count": null,
   "metadata": {},
   "outputs": [],
   "source": []
  },
  {
   "cell_type": "code",
   "execution_count": null,
   "metadata": {},
   "outputs": [],
   "source": []
  }
 ],
 "metadata": {
  "kernelspec": {
   "display_name": "Python 3",
   "language": "python",
   "name": "python3"
  },
  "language_info": {
   "codemirror_mode": {
    "name": "ipython",
    "version": 3
   },
   "file_extension": ".py",
   "mimetype": "text/x-python",
   "name": "python",
   "nbconvert_exporter": "python",
   "pygments_lexer": "ipython3",
   "version": "3.6.5"
  }
 },
 "nbformat": 4,
 "nbformat_minor": 2
}
